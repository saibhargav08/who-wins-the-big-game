{
 "cells": [
  {
   "cell_type": "code",
   "execution_count": null,
   "metadata": {
    "_cell_guid": "b1076dfc-b9ad-4769-8c92-a6c4dae69d19",
    "_uuid": "8f2839f25d086af736a60e9eeb907d3b93b6e0e5"
   },
   "outputs": [],
   "source": [
    "# This Python 3 environment comes with many helpful analytics libraries installed\n",
    "# It is defined by the kaggle/python docker image: https://github.com/kaggle/docker-python\n",
    "# For example, here's several helpful packages to load in \n",
    "\n",
    "import numpy as np # linear algebra\n",
    "import pandas as pd # data processing, CSV file I/O (e.g. pd.read_csv)\n",
    "\n",
    "# Input data files are available in the \"../input/\" directory.\n",
    "# For example, running this (by clicking run or pressing Shift+Enter) will list all files under the input directory\n",
    "\n",
    "import os\n",
    "for dirname, _, filenames in os.walk('/kaggle/input'):\n",
    "    for filename in filenames:\n",
    "        print(os.path.join(dirname, filename))\n",
    "\n",
    "# Any results you write to the current directory are saved as output."
   ]
  },
  {
   "cell_type": "code",
   "execution_count": null,
   "metadata": {
    "_cell_guid": "79c7e3d0-c299-4dcb-8224-4455121ee9b0",
    "_uuid": "d629ff2d2480ee46fbb7e2d37f6b5fab8052498a",
    "collapsed": true
   },
   "outputs": [],
   "source": [
    "import pandas as pd\n",
    "sample_submission = pd.read_csv(\"../input/who-wins-the-big-game/sample_submission.csv\")\n",
    "test = pd.read_csv(\"../input/who-wins-the-big-game/test.csv\")\n",
    "train = pd.read_csv(\"../input/who-wins-the-big-game/train.csv\")"
   ]
  },
  {
   "cell_type": "code",
   "execution_count": null,
   "metadata": {},
   "outputs": [],
   "source": [
    "train.head(10)\n",
    "train.describe()\n",
    "train.info()\n",
    "new_train=train\n",
    "new_train['Team_Value'].unique()"
   ]
  },
  {
   "cell_type": "code",
   "execution_count": null,
   "metadata": {},
   "outputs": [],
   "source": [
    "class_map = {\n",
    "    'Less_Than_Four_Billion': 0,\n",
    "    'Above_Four_Billion': 1,\n",
    "    'Less_Than_Three_Billion': 2,\n",
    "}\n",
    "\n",
    "class_map_playing={\n",
    "    'Balanced':0,\n",
    "    'Aggressive_Offense':1,\n",
    "    'Aggressive_Defense':2,\n",
    "    'Relaxed':3\n",
    "}\n",
    "\n",
    "injured_Players_Map ={\n",
    "    'five':5,\n",
    "    'four':4,\n",
    "    'six':6,\n",
    "    'three':3,\n",
    "    'seven':7,\n",
    "    'eight':8,\n",
    "    'two':2,\n",
    "    'nine':9,\n",
    "    'one':1,\n",
    "    'ten':10\n",
    "}\n",
    "\n",
    "Coach_Experience_Level_map={\n",
    "    'Intermediate':1,\n",
    "    'Beginner':0,\n",
    "    'Advanced':2\n",
    "    \n",
    "}\n",
    "\n",
    "new_train['Team_Value'] = new_train['Team_Value'].map(class_map)\n",
    "new_train['Playing_Style']=new_train['Playing_Style'].map(class_map_playing)\n",
    "new_train['Number_Of_Injured_Players'] =new_train['Number_Of_Injured_Players'].map(injured_Players_Map)\n",
    "new_train['Coach_Experience_Level'] = new_train['Coach_Experience_Level'].map(Coach_Experience_Level_map)"
   ]
  },
  {
   "cell_type": "code",
   "execution_count": null,
   "metadata": {},
   "outputs": [],
   "source": [
    "new_train_target = new_train['Won_Championship']\n",
    "new_train = new_train.drop('ID',axis=1)\n",
    "new_train = new_train.drop('Won_Championship',axis=1)\n",
    "new_train.head(10)"
   ]
  },
  {
   "cell_type": "code",
   "execution_count": null,
   "metadata": {},
   "outputs": [],
   "source": [
    "new_test=test.drop('ID',axis=1)\n",
    "new_test['Team_Value'].unique()\n",
    "new_test['Team_Value'] = new_test['Team_Value'].map(class_map)"
   ]
  },
  {
   "cell_type": "code",
   "execution_count": null,
   "metadata": {},
   "outputs": [],
   "source": [
    "new_test['Playing_Style'].unique()\n",
    "new_test['Playing_Style']=new_test['Playing_Style'].map(class_map_playing)"
   ]
  },
  {
   "cell_type": "code",
   "execution_count": null,
   "metadata": {},
   "outputs": [],
   "source": [
    "new_test['Number_Of_Injured_Players'].unique()\n",
    "new_test['Number_Of_Injured_Players'] =new_test['Number_Of_Injured_Players'].map(injured_Players_Map)\n",
    "new_test['Coach_Experience_Level'].unique()\n",
    "new_test['Coach_Experience_Level'] = new_test['Coach_Experience_Level'].map(Coach_Experience_Level_map)\n",
    "new_train.info()"
   ]
  },
  {
   "cell_type": "code",
   "execution_count": null,
   "metadata": {},
   "outputs": [],
   "source": [
    "new_train_target.describe()\n",
    "train_target=new_train_target"
   ]
  },
  {
   "cell_type": "code",
   "execution_count": null,
   "metadata": {},
   "outputs": [],
   "source": [
    "new_test.info()\n",
    "new_train.values\n",
    "new_train.columns"
   ]
  },
  {
   "cell_type": "code",
   "execution_count": null,
   "metadata": {},
   "outputs": [],
   "source": [
    "from sklearn.ensemble import RandomForestClassifier\n",
    "rfc = RandomForestClassifier(n_estimators=101,max_depth=250,max_leaf_nodes=50,random_state=101)\n",
    "rfc.fit(new_train,train_target)"
   ]
  },
  {
   "cell_type": "code",
   "execution_count": null,
   "metadata": {},
   "outputs": [],
   "source": [
    "feat_importances = pd.Series(rfc.feature_importances_, index=new_train.columns)\n",
    "feat_importances.nlargest(8).plot(kind='barh')\n",
    "new_train_1 = new_train.drop(['Team_Value','Playing_Style','Previous_SB_Wins'],axis=1)\n",
    "new_train_1.columns"
   ]
  },
  {
   "cell_type": "code",
   "execution_count": null,
   "metadata": {},
   "outputs": [],
   "source": [
    "rfc = RandomForestClassifier(n_estimators=10000,max_depth=250,max_leaf_nodes=50,random_state=101)\n",
    "rfc.fit(new_train_1,train_target)"
   ]
  },
  {
   "cell_type": "code",
   "execution_count": null,
   "metadata": {},
   "outputs": [],
   "source": [
    "out_put = rfc.predict(new_test.drop(['Team_Value','Playing_Style','Previous_SB_Wins'],axis=1))"
   ]
  },
  {
   "cell_type": "code",
   "execution_count": null,
   "metadata": {},
   "outputs": [],
   "source": [
    "submission = pd.DataFrame([test['ID'], out_put], index=['ID', 'Won_Championship']).T\n",
    "submission.to_csv('submission-1.csv', index=False)\n",
    "submission.head()"
   ]
  }
 ],
 "metadata": {
  "kernelspec": {
   "display_name": "Python 3",
   "language": "python",
   "name": "python3"
  },
  "language_info": {
   "codemirror_mode": {
    "name": "ipython",
    "version": 3
   },
   "file_extension": ".py",
   "mimetype": "text/x-python",
   "name": "python",
   "nbconvert_exporter": "python",
   "pygments_lexer": "ipython3",
   "version": "3.6.9"
  }
 },
 "nbformat": 4,
 "nbformat_minor": 4
}
